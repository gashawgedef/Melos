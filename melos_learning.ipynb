{
  "cells": [
    {
      "cell_type": "code",
      "execution_count": 1,
      "id": "04cb4a0e",
      "metadata": {
        "vscode": {
          "languageId": "plaintext"
        },
        "id": "04cb4a0e",
        "outputId": "4eb445bc-0ce8-45b3-c909-20cddc605448",
        "colab": {
          "base_uri": "https://localhost:8080/"
        }
      },
      "outputs": [
        {
          "output_type": "stream",
          "name": "stdout",
          "text": [
            "Welcome Dedebu\n"
          ]
        }
      ],
      "source": [
        "print(\"Welcome Dedebu\")"
      ]
    }
  ],
  "metadata": {
    "language_info": {
      "name": "python"
    },
    "colab": {
      "provenance": []
    },
    "kernelspec": {
      "name": "python3",
      "display_name": "Python 3"
    }
  },
  "nbformat": 4,
  "nbformat_minor": 5
}